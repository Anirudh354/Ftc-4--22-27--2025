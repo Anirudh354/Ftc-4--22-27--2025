{
  "nbformat": 4,
  "nbformat_minor": 0,
  "metadata": {
    "colab": {
      "provenance": []
    },
    "kernelspec": {
      "name": "python3",
      "display_name": "Python 3"
    },
    "language_info": {
      "name": "python"
    }
  },
  "cells": [
    {
      "cell_type": "code",
      "execution_count": null,
      "metadata": {
        "id": "45SJTkHu_Obi"
      },
      "outputs": [],
      "source": [
        "while True:\n",
        "    code = input(\"Enter the code: \")\n",
        "    if code == \"open123\":\n",
        "        print(\"Welcome\")\n",
        "        break"
      ]
    },
    {
      "cell_type": "code",
      "source": [
        "while True:\n",
        "    number = int(input(\"What is the lucky number? \"))\n",
        "    if number == 7:\n",
        "        print(\"You found the lucky number!\")# the lucky number is found ends code\n",
        "        break\n",
        "    elif number < 7:\n",
        "        print(\"Too small!\")# TOO small making you try agian\n",
        "    else:\n",
        "        print(\"Too big!\")# too BIg making you try agian\n"
      ],
      "metadata": {
        "id": "xukO4lGRAbGV"
      },
      "execution_count": null,
      "outputs": []
    },
    {
      "cell_type": "code",
      "source": [
        "while True:\n",
        "    color = input(\"Enter a color: \")  # why will ther not be a space in the interative part\n",
        "    if color == \"rainbow\":\n",
        "              print(\"You completed the rainbow!\")\n",
        "        break\n",
        "    elif color == \"black\" or color == \"gray\": # why does color have to be repeated twice\n",
        "        print(\"That's not a rainbow color!\")\n",
        "    else:\n",
        "        print(\"Nice color!\")\n"
      ],
      "metadata": {
        "id": "2LYaSfw_B-0q"
      },
      "execution_count": null,
      "outputs": []
    },
    {
      "cell_type": "code",
      "source": [
        "for i in range(1, 6):\n",
        "    print(i)\n",
        "    if i == 5:\n",
        "       print(\"Red Light! Stop!\") # why does there have to be that big of a indent\n",
        "for i in range(6, 11):\n",
        "    print(i)"
      ],
      "metadata": {
        "id": "pCEGpPdLEPm5"
      },
      "execution_count": null,
      "outputs": []
    },
    {
      "cell_type": "code",
      "source": [
        "while True:\n",
        "    word = input(\"Please type a word: \")\n",
        "    if len(word) > 10:# len is length and word has to be greater of ten to stop the loop\n",
        "        print(\"That's a long word!\")\n",
        "        break  # Stops the loop\n",
        "    else:\n",
        "        print(\"That's not a long word, try again!\")"
      ],
      "metadata": {
        "id": "5PhIiMTIFn-h"
      },
      "execution_count": null,
      "outputs": []
    },
    {
      "cell_type": "code",
      "source": [],
      "metadata": {
        "id": "_aDsO2ChGQUY"
      },
      "execution_count": null,
      "outputs": []
    }
  ]
}