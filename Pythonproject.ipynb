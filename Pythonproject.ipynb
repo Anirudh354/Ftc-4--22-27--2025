{
  "nbformat": 4,
  "nbformat_minor": 0,
  "metadata": {
    "colab": {
      "provenance": []
    },
    "kernelspec": {
      "name": "python3",
      "display_name": "Python 3"
    },
    "language_info": {
      "name": "python"
    }
  },
  "cells": [
    {
      "cell_type": "code",
      "execution_count": null,
      "metadata": {
        "id": "cmV24oFK8Qhl",
        "colab": {
          "base_uri": "https://localhost:8080/"
        },
        "outputId": "e8504110-d9de-4dee-9037-eb5145f54435"
      },
      "outputs": [
        {
          "output_type": "stream",
          "name": "stdout",
          "text": [
            "anirudh\n",
            "anirudh\n"
          ]
        }
      ],
      "source": [
        "print(\"anirudh\")\n",
        "print('anirudh')\n",
        "# LOOP\n",
        "# to perform the same task for multiple times\n",
        "# for and while"
      ]
    },
    {
      "cell_type": "code",
      "source": [
        "# FOR\n",
        "a= 'anirudh'\n",
        "for i in range(10): # for and in\n",
        "  print(a)\n",
        "# for FIXED AND DEFINED NUMBER OF CYCLES"
      ],
      "metadata": {
        "colab": {
          "base_uri": "https://localhost:8080/"
        },
        "id": "7AYyMUHNOYip",
        "outputId": "14aaefe8-dd6a-4e87-8706-2f97440ca4a4"
      },
      "execution_count": null,
      "outputs": [
        {
          "output_type": "stream",
          "name": "stdout",
          "text": [
            "anirudh\n",
            "anirudh\n",
            "anirudh\n",
            "anirudh\n",
            "anirudh\n",
            "anirudh\n",
            "anirudh\n",
            "anirudh\n",
            "anirudh\n",
            "anirudh\n"
          ]
        }
      ]
    },
    {
      "cell_type": "code",
      "source": [
        "for i in range(5,5): # range(n) returns only 0 to (n-1) values\n",
        "  print(i)         # range(m,n) returns m to (n-1) values"
      ],
      "metadata": {
        "id": "QVMoc5YhVAjt"
      },
      "execution_count": null,
      "outputs": []
    },
    {
      "cell_type": "code",
      "source": [
        "name = \"anirudh\"\n",
        "print(\"thank you\",name)"
      ],
      "metadata": {
        "id": "wc3YTOYWcFGo"
      },
      "execution_count": null,
      "outputs": []
    },
    {
      "cell_type": "code",
      "source": [
        "# an input where the INPUT MUST BE > 100\n",
        "# if the user inputs a number <=100 , we should ask him to enter a new number\n",
        "n=0\n",
        "while(n<=100):\n",
        "  n=int(input(\"enter a  new number : \"))"
      ],
      "metadata": {
        "id": "CbWw42BMWL5L",
        "colab": {
          "base_uri": "https://localhost:8080/"
        },
        "outputId": "caa8d218-805d-4ffb-f2c2-c2d38c03e8c0"
      },
      "execution_count": null,
      "outputs": [
        {
          "name": "stdout",
          "output_type": "stream",
          "text": [
            "enter a  new number : 5\n",
            "enter a  new number : 99\n",
            "enter a  new number : 23\n",
            "enter a  new number : 12\n",
            "enter a  new number : 100\n",
            "enter a  new number : 1000\n"
          ]
        }
      ]
    },
    {
      "cell_type": "code",
      "source": [
        "for i in range(): # WHEN THE NUMBER OF CYCLES ARE KNOWN TO THE DEVELOPER\n",
        "  # code"
      ],
      "metadata": {
        "id": "CHuBPMW3cOYp"
      },
      "execution_count": null,
      "outputs": []
    }
  ]
}