{
  "cells": [
    {
      "cell_type": "code",
      "execution_count": null,
      "metadata": {
        "id": "io-Irk-cCc11"
      },
      "outputs": [],
      "source": [
        "a= 'anirudh'\n",
        "for i in range(2,8):\n",
        "  print(a)"
      ]
    },
    {
      "cell_type": "code",
      "execution_count": null,
      "metadata": {
        "id": "Ng9mg3BfCoPJ"
      },
      "outputs": [],
      "source": [
        "print(\"I love pizza\")\n",
        "print(\"I love pasta\")\n",
        "print(\"I love rice\")"
      ]
    },
    {
      "cell_type": "code",
      "execution_count": null,
      "metadata": {
        "colab": {
          "base_uri": "https://localhost:8080/"
        },
        "id": "5DdQdBCXKdHD",
        "outputId": "7d13e870-252e-4e36-d548-17c1bcc34215"
      },
      "outputs": [
        {
          "name": "stdout",
          "output_type": "stream",
          "text": [
            "[2, 4, 6, 8]\n"
          ]
        }
      ],
      "source": [
        "for i in range(2,11):\n",
        "  print(i)"
      ]
    },
    {
      "cell_type": "code",
      "execution_count": null,
      "metadata": {
        "colab": {
          "base_uri": "https://localhost:8080/"
        },
        "id": "-AQt1enQDDQN",
        "outputId": "38a9efa6-8a24-4b32-b999-26803466b78e"
      },
      "outputs": [
        {
          "output_type": "stream",
          "name": "stdout",
          "text": [
            "10\n",
            "9\n",
            "8\n",
            "7\n",
            "6\n",
            "5\n",
            "4\n",
            "3\n",
            "2\n",
            "1\n",
            "0\n",
            "blast off!\n"
          ]
        }
      ],
      "source": [
        "for i in range(10,-1,-1):\n",
        "  print(i)\n",
        "print(\"blast off!\")"
      ]
    },
    {
      "cell_type": "code",
      "source": [
        "while True:\n",
        "  magic_word=input(\"enter a magic word\")\n",
        "  if magic_word== \"please\":\n",
        "    break"
      ],
      "metadata": {
        "id": "pq-E6TF-ntEk"
      },
      "execution_count": null,
      "outputs": []
    },
    {
      "cell_type": "code",
      "execution_count": null,
      "metadata": {
        "colab": {
          "background_save": true
        },
        "id": "xDFT_F31xXXP"
      },
      "outputs": [],
      "source": [
        "import random # import the random module\n",
        "# Choose a random number between 1 and 5\n",
        "secret_number = random.randint(1, 5)\n",
        "\n",
        "while True:\n",
        "    guess = int(input(\"Guess a number between 1 and 5: \"))\n",
        "    if guess == secret_number:\n",
        "        print(\"You got it right!\")"
      ]
    }
  ],
  "metadata": {
    "colab": {
      "provenance": []
    },
    "kernelspec": {
      "display_name": "Python 3",
      "name": "python3"
    },
    "language_info": {
      "name": "python"
    }
  },
  "nbformat": 4,
  "nbformat_minor": 0
}