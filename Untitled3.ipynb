{
  "nbformat": 4,
  "nbformat_minor": 0,
  "metadata": {
    "colab": {
      "provenance": []
    },
    "kernelspec": {
      "name": "python3",
      "display_name": "Python 3"
    },
    "language_info": {
      "name": "python"
    }
  },
  "cells": [
    {
      "cell_type": "code",
      "execution_count": 2,
      "metadata": {
        "colab": {
          "base_uri": "https://localhost:8080/"
        },
        "id": "REJbrs_bxgfQ",
        "outputId": "cbee9507-419c-470f-d947-2910381072d3"
      },
      "outputs": [
        {
          "output_type": "stream",
          "name": "stdout",
          "text": [
            "1\n",
            "2\n",
            "3\n",
            "4\n",
            "5\n",
            "6\n",
            "7\n",
            "8\n",
            "9\n",
            "10\n"
          ]
        }
      ],
      "source": [
        "A = [1, 2, 3, 4, 5, 6, 7, 8, 9, 10]\n",
        "for i in A:\n",
        "  print(i)\n"
      ]
    },
    {
      "cell_type": "code",
      "source": [
        "a = [['0' for i in range(10)] for i in range(10)]\n",
        "for i in a:\n",
        "  print(i)"
      ],
      "metadata": {
        "colab": {
          "base_uri": "https://localhost:8080/"
        },
        "id": "PwPX_E6A2BNJ",
        "outputId": "ce56bcee-f18d-45d3-bc9b-ccf92917a968"
      },
      "execution_count": 4,
      "outputs": [
        {
          "output_type": "stream",
          "name": "stdout",
          "text": [
            "['0', '0', '0', '0', '0', '0', '0', '0', '0', '0']\n",
            "['0', '0', '0', '0', '0', '0', '0', '0', '0', '0']\n",
            "['0', '0', '0', '0', '0', '0', '0', '0', '0', '0']\n",
            "['0', '0', '0', '0', '0', '0', '0', '0', '0', '0']\n",
            "['0', '0', '0', '0', '0', '0', '0', '0', '0', '0']\n",
            "['0', '0', '0', '0', '0', '0', '0', '0', '0', '0']\n",
            "['0', '0', '0', '0', '0', '0', '0', '0', '0', '0']\n",
            "['0', '0', '0', '0', '0', '0', '0', '0', '0', '0']\n",
            "['0', '0', '0', '0', '0', '0', '0', '0', '0', '0']\n",
            "['0', '0', '0', '0', '0', '0', '0', '0', '0', '0']\n"
          ]
        }
      ]
    }
  ]
}